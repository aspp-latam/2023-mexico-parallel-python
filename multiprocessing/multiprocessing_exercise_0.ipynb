{
 "cells": [
  {
   "cell_type": "markdown",
   "id": "7e589ef3",
   "metadata": {},
   "source": [
    "# Exercise 0\n",
    "### Step 0\n",
    "Compute and print the cubes of numbers `0..9` with a `for` loop."
   ]
  },
  {
   "cell_type": "code",
   "execution_count": 5,
   "id": "656b87a0",
   "metadata": {},
   "outputs": [
    {
     "name": "stdout",
     "output_type": "stream",
     "text": [
      "[0, 1, 8, 27, 64, 125, 216, 343, 512, 729]\n",
      "CPU times: user 0 ns, sys: 286 µs, total: 286 µs\n",
      "Wall time: 275 µs\n"
     ]
    }
   ],
   "source": [
    "%%time\n",
    "\n",
    "inputs = range(10)\n",
    "... # TODO compute cubes\n",
    "results=[]\n",
    "for i in inputs:\n",
    "    results.append(i*i*i)\n",
    "print(results)"
   ]
  },
  {
   "cell_type": "markdown",
   "id": "d1d1e41c",
   "metadata": {},
   "source": [
    "### Step 1\n",
    "Compute and print the cubes of numbers `0..9` using `map`."
   ]
  },
  {
   "cell_type": "code",
   "execution_count": 6,
   "id": "b3e934a0",
   "metadata": {},
   "outputs": [
    {
     "name": "stdout",
     "output_type": "stream",
     "text": [
      "[0, 1, 8, 27, 64, 125, 216, 343, 512, 729]\n",
      "CPU times: user 255 µs, sys: 3 µs, total: 258 µs\n",
      "Wall time: 273 µs\n"
     ]
    }
   ],
   "source": [
    "%%time\n",
    "def cube(x):\n",
    "    return x*x*x\n",
    "\n",
    "inputs = range(10)\n",
    "... # TODO compute cubes\n",
    "\n",
    "print(list(map(cube,inputs)))"
   ]
  },
  {
   "cell_type": "code",
   "execution_count": 9,
   "id": "204ed783",
   "metadata": {},
   "outputs": [
    {
     "data": {
      "text/plain": [
       "4"
      ]
     },
     "execution_count": 9,
     "metadata": {},
     "output_type": "execute_result"
    }
   ],
   "source": [
    "import multiprocessing\n",
    "multiprocessing.cpu_count()"
   ]
  },
  {
   "cell_type": "code",
   "execution_count": null,
   "id": "cbf8fd60",
   "metadata": {},
   "outputs": [],
   "source": []
  }
 ],
 "metadata": {
  "kernelspec": {
   "display_name": "Python 3 (ipykernel)",
   "language": "python",
   "name": "python3"
  },
  "language_info": {
   "codemirror_mode": {
    "name": "ipython",
    "version": 3
   },
   "file_extension": ".py",
   "mimetype": "text/x-python",
   "name": "python",
   "nbconvert_exporter": "python",
   "pygments_lexer": "ipython3",
   "version": "3.11.3"
  }
 },
 "nbformat": 4,
 "nbformat_minor": 5
}
